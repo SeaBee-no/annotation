{
 "cells": [
  {
   "cell_type": "raw",
   "id": "1e00c4da-1ec9-4402-a28b-6ad4b241b3a8",
   "metadata": {},
   "source": [
    "---\n",
    "title: \"SeaBee annotation workflow\"\n",
    "number-sections: true\n",
    "format: \n",
    "  html:\n",
    "    embed-resources: true\n",
    "    toc: true\n",
    "    toc-title: Contents\n",
    "    toc-depth: 4\n",
    "    code-fold: true\n",
    "jupyter: python3\n",
    "---"
   ]
  },
  {
   "cell_type": "markdown",
   "id": "8776c2d1-722b-4e14-8b78-4b3f50f45bd4",
   "metadata": {},
   "source": [
    "## Overview {#sec-overview}\n",
    "\n",
    "This document describes the SeaBee annotation workflow developed and tested using the **Runde/Remøy** dataset during December 2022. \n",
    "\n",
    "The current workflow is preliminary and should become smoother once integrated with Sigma2. The aim of these notes is to help new users get started with annotation using ArcGIS Pro and to avoid common mistakes/pitfalls.\n",
    "\n",
    "## Workflow {#sec-workflow}\n",
    "\n",
    "### Install ArcGIS Pro {#sec-install-arcgis}\n",
    "\n",
    "Follow the steps below to download and install ArcGIS Pro on your local machine.\n",
    "\n",
    " 1. Contact Jan Karud to obtain login details for ArcGIS Online. You need access to **ArcGIS Pro** with the **Image Analyst** extension. Login [here](https://www.arcgis.com/index.html).\n",
    " \n",
    " 2. [Login to ArcGIS Online](https://www.arcgis.com/index.html) and, under your profile, choose `Settings > Licenses`. Check that Image Analyst is available to you under `ArcGIS Pro extensions`, then click the link to `Download ArcGIS Pro` (@fig-download-arcgis-pro).\n",
    " \n",
    " 3. Obtain and administrator password from IT-Vakt and run the installer. You should then be able to start ArcGIS Pro and login to the application using your ArcGIS Online credentials.\n",
    " \n",
    "![Download ArcGIS Pro](./images/download_arcgis_pro.png){#fig-download-arcgis-pro}\n",
    "\n",
    "### Setup project {#sec-setup-project}\n",
    "\n",
    "The next step is to create a new project within ArcGIS and add SeaBee data to it.\n",
    "\n",
    " 1. In ArcGIS Pro, create a new `Map` project. The `Name` should describe the mission/area you're annotating and `Location` should be an existing local folder on your PC.\n",
    " \n",
    ":::{.callout-tip}\n",
    "ArcGIS may run very slowly if you choose a network folder or a folder that is synchronised to an external server (e.g. DropBox, OneDrive, GoogleDrive).\n",
    ":::\n",
    "\n",
    " 2. Within your project folder, create three new subfolders: `class_definitions`, `vector` and `raster`. This can either be done using the `Catalog` pane in ArcGIS or using Windows File Explorer.\n",
    " \n",
    " 3. Download the mission datasets and add them to the relevant subfolders. As a minimum, you will need a **class definition file** and a **georeferenced orthomosaic**. Optionally, you may include a **ground truth dataset**, a **region of interest** (ROI) file and any **pre-existing annotation** for your area of interest. See @sec-class-definitions to @sec-roi for details.\n",
    " \n",
    ":::{.callout-note}\n",
    "At present, most mission data is hosted on OneDrive/Sharepoint, which means it must be downloaded locally for use with ArcGIS. For large files, this can be slow. Eventually, most datasets should be hosted on Sigma2 and exposed as web mapping services (WMS). This will make it possible to add the orthomosaics to your map without having to download large volumes of raw imagery.\n",
    ":::\n",
    " \n",
    "### Class definition files {#sec-class-definitions}\n",
    "\n",
    "ArcGIS Pro supports \n",
    "\n",
    "### Orthomosaics {#sec-mosaics}\n",
    "\n",
    "### Ground truth data {#sec-ground-truth}\n",
    "\n",
    "### Region of interest {#sec-roi}"
   ]
  }
 ],
 "metadata": {
  "kernelspec": {
   "display_name": "Python 3 (ipykernel)",
   "language": "python",
   "name": "python3"
  },
  "language_info": {
   "codemirror_mode": {
    "name": "ipython",
    "version": 3
   },
   "file_extension": ".py",
   "mimetype": "text/x-python",
   "name": "python",
   "nbconvert_exporter": "python",
   "pygments_lexer": "ipython3",
   "version": "3.10.6"
  }
 },
 "nbformat": 4,
 "nbformat_minor": 5
}
