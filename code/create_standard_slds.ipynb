{
 "cells": [
  {
   "cell_type": "code",
   "execution_count": 1,
   "id": "7afd33df-5288-4775-b600-ece3b33ac5c3",
   "metadata": {},
   "outputs": [],
   "source": [
    "import os\n",
    "\n",
    "from pysld.style import StyleSld\n",
    "\n",
    "import seabeepy as sb"
   ]
  },
  {
   "cell_type": "markdown",
   "id": "3ebfe9e0-6a58-4b9e-9aec-b302eaf5f6d9",
   "metadata": {},
   "source": [
    "## 1. Simple styles"
   ]
  },
  {
   "cell_type": "code",
   "execution_count": 2,
   "id": "a2d3b415-c0c6-49db-a459-41bd94b214c5",
   "metadata": {},
   "outputs": [],
   "source": [
    "out_fold = r\"/home/notebook/annotation/sld_files\""
   ]
  },
  {
   "cell_type": "code",
   "execution_count": 3,
   "id": "8bd9410f-a987-4cbf-a30b-b37cb4ad4737",
   "metadata": {},
   "outputs": [],
   "source": [
    "# Dict mapping file names to fill and stroke colours\n",
    "# name => (fill_colour, stroke_colour)\n",
    "style_dict = {\n",
    "    \"black_outline\": (None, \"#000000\"),\n",
    "    \"red_outline\": (None, \"#FF0000\"),\n",
    "    \"blue_outline\": (None, \"#0000FF\"),\n",
    "}\n",
    "for name, (fill, stroke) in style_dict.items():\n",
    "    sld = StyleSld(\n",
    "        style_name=\"polygonStyle\",\n",
    "        geom_type=\"polygon\",\n",
    "        fill_color=fill,\n",
    "        stroke_color=stroke,\n",
    "    )\n",
    "    sld_style = sld.generate_simple_style()\n",
    "    sld_path = os.path.join(out_fold, f\"{name}.sld\")\n",
    "    with open(sld_path, \"w\") as f:\n",
    "        f.write(sld_style)"
   ]
  },
  {
   "cell_type": "code",
   "execution_count": 4,
   "id": "48ef6cc5-e56d-4fac-a2af-4141d9c4f54c",
   "metadata": {},
   "outputs": [],
   "source": [
    "versions = [\"0-1\", \"0-2\", \"0-4\", \"1-0\"]\n",
    "for version in versions:\n",
    "    df = sb.anno.get_class_codes(version)\n",
    "    del df[\"desc\"]\n",
    "    for level in [1, 2, 3]:\n",
    "        code_len = level * 2\n",
    "        lev_df = df[df[\"code\"].str.len() == code_len].drop_duplicates()\n",
    "\n",
    "        sld = StyleSld(\n",
    "            style_name=\"polygonStyle\",\n",
    "            geom_type=\"polygon\",\n",
    "            attribute_name=f\"lev{level}_name\",\n",
    "            values=lev_df[\"name\"].tolist(),\n",
    "            color_palette=lev_df[\"colour\"].tolist(),\n",
    "            opacity=0.5,\n",
    "        )\n",
    "        sld_style = sld.generate_categorized_style()\n",
    "        sld_path = os.path.join(\n",
    "            out_fold, f\"annotation_classes_v{version}_level{level}.sld\"\n",
    "        )\n",
    "        with open(sld_path, \"w\") as f:\n",
    "            f.write(sld_style)"
   ]
  }
 ],
 "metadata": {
  "kernelspec": {
   "display_name": "Python 3 (ipykernel)",
   "language": "python",
   "name": "python3"
  },
  "language_info": {
   "codemirror_mode": {
    "name": "ipython",
    "version": 3
   },
   "file_extension": ".py",
   "mimetype": "text/x-python",
   "name": "python",
   "nbconvert_exporter": "python",
   "pygments_lexer": "ipython3",
   "version": "3.10.6"
  }
 },
 "nbformat": 4,
 "nbformat_minor": 5
}
