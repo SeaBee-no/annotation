{
 "cells": [
  {
   "cell_type": "code",
   "execution_count": 1,
   "id": "7afd33df-5288-4775-b600-ece3b33ac5c3",
   "metadata": {},
   "outputs": [],
   "source": [
    "import os\n",
    "import random\n",
    "\n",
    "import pandas as pd\n",
    "from config import SETTINGS\n",
    "from pysld.style import StyleSld\n",
    "from sqlalchemy import text\n",
    "\n",
    "import seabeepy as sb"
   ]
  },
  {
   "cell_type": "markdown",
   "id": "3ebfe9e0-6a58-4b9e-9aec-b302eaf5f6d9",
   "metadata": {},
   "source": [
    "# Create standardised SLDs\n",
    "\n",
    "GeoNode and GeoServer use `.sld` files for layer styling. This notebook takes the colour schemes defined in the class definitions files (`.ecs`) for mapping habitats and converts them to SLD files. This means layers published on GeoNode can use the same colour schemes defined by ecologists for habitat mapping.\n",
    "\n",
    "## 1. Simple styles"
   ]
  },
  {
   "cell_type": "code",
   "execution_count": 2,
   "id": "a2d3b415-c0c6-49db-a459-41bd94b214c5",
   "metadata": {},
   "outputs": [],
   "source": [
    "out_fold = r\"/home/notebook/annotation/sld_files\""
   ]
  },
  {
   "cell_type": "code",
   "execution_count": 3,
   "id": "8bd9410f-a987-4cbf-a30b-b37cb4ad4737",
   "metadata": {},
   "outputs": [],
   "source": [
    "# Dict mapping file names to fill and stroke colours\n",
    "# name => (fill_colour, stroke_colour)\n",
    "style_dict = {\n",
    "    \"black_outline\": (None, \"#000000\"),\n",
    "    \"red_outline\": (None, \"#FF0000\"),\n",
    "    \"blue_outline\": (None, \"#0000FF\"),\n",
    "}\n",
    "for name, (fill, stroke) in style_dict.items():\n",
    "    sld = StyleSld(\n",
    "        style_name=name,\n",
    "        geom_type=\"polygon\",\n",
    "        fill_color=fill,\n",
    "        stroke_color=stroke,\n",
    "    )\n",
    "    sld_style = sld.generate_simple_style()\n",
    "    sld_path = os.path.join(out_fold, f\"{name}.sld\")\n",
    "    with open(sld_path, \"w\") as f:\n",
    "        f.write(sld_style)"
   ]
  },
  {
   "cell_type": "markdown",
   "id": "eb487a88-4773-4d17-aa4d-cbb2073bfda2",
   "metadata": {},
   "source": [
    "## 2. Styles for habitat survey missions"
   ]
  },
  {
   "cell_type": "code",
   "execution_count": 4,
   "id": "48ef6cc5-e56d-4fac-a2af-4141d9c4f54c",
   "metadata": {},
   "outputs": [],
   "source": [
    "versions = [\"0-1\", \"0-2\", \"0-4\", \"1-0\"]\n",
    "for version in versions:\n",
    "    df = sb.anno.get_class_codes(version)\n",
    "    del df[\"desc\"]\n",
    "    for level in [1, 2, 3]:\n",
    "        code_len = level * 2\n",
    "        lev_df = df[df[\"code\"].str.len() == code_len].drop_duplicates()\n",
    "\n",
    "        sld = StyleSld(\n",
    "            style_name=f\"annotation_v{version}_level{level}\",\n",
    "            geom_type=\"polygon\",\n",
    "            attribute_name=f\"lev{level}_name\",\n",
    "            values=lev_df[\"name\"].tolist(),\n",
    "            color_palette=lev_df[\"colour\"].tolist(),\n",
    "            opacity=0.5,\n",
    "        )\n",
    "        sld_style = sld.generate_categorized_style()\n",
    "        sld_path = os.path.join(\n",
    "            out_fold, f\"annotation_classes_v{version}_level{level}.sld\"\n",
    "        )\n",
    "        with open(sld_path, \"w\") as f:\n",
    "            f.write(sld_style)"
   ]
  },
  {
   "cell_type": "markdown",
   "id": "0eff5f45-f26c-4f63-94a8-cc2f8cb29ece",
   "metadata": {},
   "source": [
    "## 3. Styles for seabrids detection\n",
    "\n",
    "**The code below is not currently used** but it might be useful in the future. PySLD doesn't seem to support varying just polygon outline colours, but the function below should work instead. Right now, I think it's better to choose a simple style for the seabirds results."
   ]
  },
  {
   "cell_type": "code",
   "execution_count": 5,
   "id": "23f96da5-be92-4d57-9645-a4d17e56e558",
   "metadata": {},
   "outputs": [],
   "source": [
    "# def generate_sld(attribute_name, style_name, values, single_color=None, opacity=1):\n",
    "#     sld = f\"\"\"<?xml version=\"1.0\" encoding=\"ISO-8859-1\"?>\n",
    "# <sld:StyledLayerDescriptor xmlns=\"http://www.opengis.net/sld\" xmlns:sld=\"http://www.opengis.net/sld\" xmlns:ogc=\"http://www.opengis.net/ogc\" xmlns:gml=\"http://www.opengis.net/gml\" version=\"1.0.0\">\n",
    "#   <sld:NamedLayer>\n",
    "#     <sld:Name>{style_name}</sld:Name>\n",
    "#     <sld:UserStyle>\n",
    "#       <sld:Name>{style_name}</sld:Name>\n",
    "#       <sld:FeatureTypeStyle>\"\"\"\n",
    "\n",
    "#     for value in values:\n",
    "#         # If a single color is not specified, generate a random color for each value\n",
    "#         color = (\n",
    "#             single_color\n",
    "#             if single_color\n",
    "#             else \"#{:06x}\".format(random.randint(0, 0xFFFFFF))\n",
    "#         )\n",
    "\n",
    "#         sld += f\"\"\"\n",
    "#         <sld:Rule>\n",
    "#           <sld:Title>{value}</sld:Title>\n",
    "#           <ogc:Filter>\n",
    "#             <ogc:PropertyIsEqualTo>\n",
    "#               <ogc:PropertyName>{attribute_name}</ogc:PropertyName>\n",
    "#               <ogc:Literal>{value}</ogc:Literal>\n",
    "#             </ogc:PropertyIsEqualTo>\n",
    "#           </ogc:Filter>\n",
    "#           <sld:PolygonSymbolizer>\n",
    "#             <sld:Fill>\n",
    "#               <sld:CssParameter name=\"fill\">{color}</sld:CssParameter>\n",
    "#               <sld:CssParameter name=\"fill-opacity\">{opacity}</sld:CssParameter>\n",
    "#             </sld:Fill>\n",
    "#             <sld:Stroke>\n",
    "#               <sld:CssParameter name=\"stroke\">{color}</sld:CssParameter>\n",
    "#               <sld:CssParameter name=\"stroke-width\">1</sld:CssParameter>\n",
    "#             </sld:Stroke>\n",
    "#           </sld:PolygonSymbolizer>\n",
    "#         </sld:Rule>\"\"\"\n",
    "\n",
    "#     sld += \"\"\"\n",
    "#       </sld:FeatureTypeStyle>\n",
    "#     </sld:UserStyle>\n",
    "#   </sld:NamedLayer>\n",
    "# </sld:StyledLayerDescriptor>\"\"\"\n",
    "\n",
    "#     return sld"
   ]
  },
  {
   "cell_type": "code",
   "execution_count": 6,
   "id": "d25758e3-867d-4272-bbdb-2a521894c4d4",
   "metadata": {},
   "outputs": [],
   "source": [
    "# eng = sb.storage.connect_postgis(SETTINGS.DB_USER, SETTINGS.DB_PASSWORD)\n",
    "# tables = [\"species\", \"activity\", \"sex\", \"age\"]\n",
    "# for table in tables:\n",
    "#     sql = text(f\"SELECT * FROM {table}\")\n",
    "#     df = pd.read_sql(sql, eng).add_prefix(f\"{table}_\")\n",
    "\n",
    "#     if f\"{table}_norwegian\" in df.columns:\n",
    "#         idx_col = f\"{table}_norwegian\"\n",
    "#     else:\n",
    "#         idx_col = f\"{table}_description\"\n",
    "\n",
    "#     sld_style = generate_sld(\n",
    "#         f\"{table}_description\",\n",
    "#         f\"seabirds_{table}\",\n",
    "#         df[idx_col].tolist(),\n",
    "#         single_color=None,\n",
    "#         opacity=0,\n",
    "#     )\n",
    "#     sld_path = os.path.join(out_fold, f\"seabrids_{table}.sld\")\n",
    "#     with open(sld_path, \"w\") as f:\n",
    "#         f.write(sld_style)"
   ]
  }
 ],
 "metadata": {
  "kernelspec": {
   "display_name": "Python 3 (ipykernel)",
   "language": "python",
   "name": "python3"
  },
  "language_info": {
   "codemirror_mode": {
    "name": "ipython",
    "version": 3
   },
   "file_extension": ".py",
   "mimetype": "text/x-python",
   "name": "python",
   "nbconvert_exporter": "python",
   "pygments_lexer": "ipython3",
   "version": "3.10.6"
  }
 },
 "nbformat": 4,
 "nbformat_minor": 5
}
