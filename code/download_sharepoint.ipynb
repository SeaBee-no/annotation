{
 "cells": [
  {
   "cell_type": "code",
   "execution_count": null,
   "id": "113a9662-01eb-4cab-9a9b-2d48ad624edf",
   "metadata": {},
   "outputs": [],
   "source": [
    "# ! pip install Office365-REST-Python-Client"
   ]
  },
  {
   "cell_type": "markdown",
   "id": "75bf60f4-f4b9-4171-993e-b2afc3580655",
   "metadata": {},
   "source": [
    "# Download data from Sharepoint\n",
    "\n",
    "Getting data directly via the API seems faster and more reliable than using the UI."
   ]
  },
  {
   "cell_type": "code",
   "execution_count": null,
   "id": "4eba1517-07c1-4f47-bd82-ac64746dccc0",
   "metadata": {},
   "outputs": [],
   "source": [
    "from office365.runtime.auth.authentication_context import AuthenticationContext\n",
    "from office365.sharepoint.client_context import ClientContext\n",
    "from office365.sharepoint.files.file import File\n",
    "import getpass"
   ]
  },
  {
   "cell_type": "code",
   "execution_count": null,
   "id": "b38267fe-76ce-415b-b491-21fed0f38c6d",
   "metadata": {},
   "outputs": [],
   "source": [
    "# Path to file. Should begin /sites/xxx\n",
    "file_url = r\"/sites/pro_200067/Shared%20Documents/WP4/1_DATA-SeaBee/2022/2022-08-31_RUNDE/2022-08-31_Remoy/1_drone/2_SpectroFly/0730_RGB_120m/Mosaics/20220831_0730_RGB_120m_transparent_mosaic_group1.tif\"\n",
    "\n",
    "# File to create\n",
    "save_path = r\"/home/jovyan/shared/drones/20220831_0730_RGB_120m_transparent_mosaic_group1.tif\""
   ]
  },
  {
   "cell_type": "code",
   "execution_count": null,
   "id": "4fe7acbe-ac9f-493e-adec-a143d25f6bb8",
   "metadata": {},
   "outputs": [],
   "source": [
    "# For SeaBee\n",
    "base_url = r\"https://niva365.sharepoint.com/sites/pro_200067/\"\n",
    "\n",
    "# Authenticate\n",
    "username = getpass.getpass(\"NIVA e-mail:\")\n",
    "password = getpass.getpass(\"NIVA password:\")\n",
    "\n",
    "if username.endswith(\"@niva.no\"):\n",
    "    pass\n",
    "else:\n",
    "    username = username + \"@niva.no\"\n",
    "\n",
    "ctx_auth = AuthenticationContext(base_url)\n",
    "ctx_auth.acquire_token_for_user(username, password)   \n",
    "ctx = ClientContext(base_url, ctx_auth)\n",
    "response = File.open_binary(ctx, file_url)\n",
    "if response.status_code == 200:\n",
    "    with open(save_path, \"wb\") as local_file:\n",
    "        local_file.write(response.content)\n",
    "else:\n",
    "    response.raise_for_status()"
   ]
  }
 ],
 "metadata": {
  "kernelspec": {
   "display_name": "Python 3 (ipykernel)",
   "language": "python",
   "name": "python3"
  },
  "language_info": {
   "codemirror_mode": {
    "name": "ipython",
    "version": 3
   },
   "file_extension": ".py",
   "mimetype": "text/x-python",
   "name": "python",
   "nbconvert_exporter": "python",
   "pygments_lexer": "ipython3",
   "version": "3.10.6"
  }
 },
 "nbformat": 4,
 "nbformat_minor": 5
}
