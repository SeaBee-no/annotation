{
 "cells": [
  {
   "cell_type": "code",
   "execution_count": null,
   "id": "b736ba8f-b34d-4340-abdf-59d98382a207",
   "metadata": {},
   "outputs": [],
   "source": [
    "import os\n",
    "import shutil\n",
    "\n",
    "import fiona\n",
    "import geopandas as gpd\n",
    "import numpy as np\n",
    "import pandas as pd\n",
    "from seabeepy.config import SETTINGS\n",
    "\n",
    "import seabeepy as sb"
   ]
  },
  {
   "cell_type": "code",
   "execution_count": null,
   "id": "24106a00-efe7-4874-af33-137f4fadc2d0",
   "metadata": {},
   "outputs": [],
   "source": [
    "# Login to MinIO\n",
    "minio_client = sb.storage.minio_login(\n",
    "    user=SETTINGS.MINIO_ACCESS_ID, password=SETTINGS.MINIO_SECRET_KEY\n",
    ")"
   ]
  },
  {
   "cell_type": "markdown",
   "id": "0d507f9b-69f2-43fb-9102-6f35cb030d1a",
   "metadata": {},
   "source": [
    "# Convert SeaBee annotation between versions\n",
    "\n",
    "This notebook makes it possible to convert SeaBee habitats annotation between different versions of the habitat classes. The main aim is to make it possible to re-use old annotation for training new models.\n",
    "\n",
    "The code here converts class codes in old annotation files to the codes used in newer files (or vice versa), but **only for class names that can be matched between files**. For each level in the old scheme, this code looks for a class at the same level with the same name in the new scheme. If a single matching class can be identified, the class code from the new scheme in applied; otherwise a warning message is printed.\n",
    "\n",
    "# 1. User input"
   ]
  },
  {
   "cell_type": "code",
   "execution_count": null,
   "id": "a8a7bece-f683-4a35-b2b0-65cbc59dfe15",
   "metadata": {},
   "outputs": [],
   "source": [
    "# Campaign folder. Should be a folder within '/niva/tidy/annotation'\n",
    "camp_fold = r\"/home/notebook/shared-seabee-ns9879k/niva-tidy/annotation/remoy_2022\"\n",
    "\n",
    "# Version to convert from\n",
    "from_version = \"0-1\"\n",
    "\n",
    "# Version to convert to\n",
    "to_version = \"1-1\"\n",
    "\n",
    "# Folder for saving intermediates\n",
    "temp_fold = r\"/home/notebook/annotation_temp\""
   ]
  },
  {
   "cell_type": "markdown",
   "id": "be8832a3-eb9d-4c25-980a-40a419677729",
   "metadata": {},
   "source": [
    "## 2. Convert annotation"
   ]
  },
  {
   "cell_type": "code",
   "execution_count": null,
   "id": "aa23d930-0e8f-4ef1-844a-087bf2e16cf7",
   "metadata": {},
   "outputs": [],
   "source": [
    "# Check user input\n",
    "from_version = from_version.replace(\".\", \"-\")\n",
    "to_version = to_version.replace(\".\", \"-\")\n",
    "\n",
    "if not os.path.isdir(camp_fold):\n",
    "    raise FileNotFoundError(f\"Folder '{camp_fold}' does not exist.\")\n",
    "\n",
    "# Check annotation already exists for 'from_version'\n",
    "camp_name = os.path.basename(camp_fold)\n",
    "gpkg_name = f\"{camp_name}_annotation.gpkg\"\n",
    "gpkg_path = os.path.join(camp_fold, gpkg_name)\n",
    "from_anno_name = f\"{camp_name}_merged_annotation_v{from_version}\"\n",
    "layers = fiona.listlayers(gpkg_path)\n",
    "if from_anno_name not in layers:\n",
    "    raise KeyError(\n",
    "        f\"Existing annotation not found for v{from_version}: no layer named '{from_anno_name}' in '{gpkg_name}'.\"\n",
    "    )"
   ]
  },
  {
   "cell_type": "code",
   "execution_count": null,
   "id": "8434920d-d05c-4db1-bf6d-f343204bfd05",
   "metadata": {},
   "outputs": [],
   "source": [
    "# Read original annotation\n",
    "gdf = gpd.read_file(gpkg_path, layer=from_anno_name)\n",
    "orig_cols = gdf.columns\n",
    "gdf.rename(\n",
    "    columns={\n",
    "        \"lev1_code\": \"lev1_code_old\",\n",
    "        \"lev2_code\": \"lev2_code_old\",\n",
    "        \"lev3_code\": \"lev3_code_old\",\n",
    "    },\n",
    "    inplace=True,\n",
    ")\n",
    "\n",
    "# Get new codes\n",
    "codes_df = sb.anno.get_class_codes(to_version)\n",
    "del codes_df[\"desc\"], codes_df[\"colour\"]\n",
    "\n",
    "# Loop over levels\n",
    "for level in [1, 2, 3]:\n",
    "    code_len = level * 2\n",
    "    lev_df = codes_df[codes_df[\"code\"].str.len() == code_len].drop_duplicates()\n",
    "    lev_df.rename(\n",
    "        columns={\"code\": f\"lev{level}_code\", \"name\": f\"lev{level}_name\"}, inplace=True\n",
    "    )\n",
    "    gdf = gdf.merge(lev_df, how=\"left\", on=f\"lev{level}_name\")\n",
    "\n",
    "# Find classes with no match in the new scheme\n",
    "cols = [\n",
    "    \"subarea_id\",\n",
    "    \"lev1_code_old\",\n",
    "    \"lev2_code_old\",\n",
    "    \"lev3_code_old\",\n",
    "    \"lev1_name\",\n",
    "    \"lev2_name\",\n",
    "    \"lev3_name\",\n",
    "    \"lev3_desc\",\n",
    "    \"lev1_code\",\n",
    "    \"lev2_code\",\n",
    "    \"lev3_code\",\n",
    "]\n",
    "unmatched_gdf = gdf[gdf[\"lev1_code\"].isna()][cols].copy()\n",
    "gdf.dropna(subset=\"lev1_code\", inplace=True)\n",
    "print(\n",
    "    \"The following classes in the original cannot be matched at all in the new class schema:\"\n",
    ")\n",
    "display(unmatched_gdf)\n",
    "\n",
    "# Update names that cannot be matched at lower levels\n",
    "gdf.loc[gdf[\"lev2_code\"].isna(), \"lev2_name\"] = np.nan\n",
    "gdf.loc[gdf[\"lev3_code\"].isna(), \"lev3_name\"] = np.nan\n",
    "\n",
    "# Pad gaps in codes for levels 2 and 3\n",
    "gdf[\"lev2_code\"] = gdf.apply(\n",
    "    lambda row: (\n",
    "        row[\"lev1_code\"] + \"--\" if pd.isna(row[\"lev2_code\"]) else row[\"lev2_code\"]\n",
    "    ),\n",
    "    axis=1,\n",
    ")\n",
    "gdf[\"lev3_code\"] = gdf.apply(\n",
    "    lambda row: (\n",
    "        row[\"lev2_code\"] + \"--\" if pd.isna(row[\"lev3_code\"]) else row[\"lev3_code\"]\n",
    "    ),\n",
    "    axis=1,\n",
    ")\n",
    "\n",
    "# Standardise\n",
    "gdf = gdf[orig_cols]"
   ]
  },
  {
   "cell_type": "markdown",
   "id": "564f18e3-f87a-4d7f-b33b-4a05ce7f3a9e",
   "metadata": {},
   "source": [
    "## 3. Save converted annotation"
   ]
  },
  {
   "cell_type": "code",
   "execution_count": null,
   "id": "33fc2141-c411-4d32-bcbb-03e5447a406a",
   "metadata": {},
   "outputs": [],
   "source": [
    "# Save locally\n",
    "conv_gpkg_name = f\"{camp_name}_annotation_converted.gpkg\"\n",
    "temp_gpkg = os.path.join(temp_fold, conv_gpkg_name)\n",
    "layer = f\"{camp_name}_merged_annotation_v{to_version}converted\"\n",
    "gdf.to_file(temp_gpkg, layer=layer, driver=\"GPKG\", index=False)\n",
    "\n",
    "# Copy MinIO\n",
    "conv_gpkg_path = os.path.join(camp_fold, conv_gpkg_name)\n",
    "sb.storage.copy_file(\n",
    "    temp_gpkg,\n",
    "    conv_gpkg_path,\n",
    "    minio_client,\n",
    "    overwrite=False,\n",
    ")\n",
    "os.remove(temp_gpkg)"
   ]
  },
  {
   "cell_type": "markdown",
   "id": "52be0bcd-be6a-4378-85b1-5078c0807352",
   "metadata": {},
   "source": [
    "## 4. Publish converted annotation"
   ]
  },
  {
   "cell_type": "code",
   "execution_count": null,
   "id": "1737c5d7-dbaf-439f-9ad4-f1e1fe191f36",
   "metadata": {},
   "outputs": [],
   "source": [
    "# # Define layer styling using SeaBee standard SLDs.\n",
    "# # 'style_level' is the level in the hierarchy used for colouring polygons\n",
    "# style_level = 2\n",
    "# style_dict = {\n",
    "#     f\"{camp_name}_merged_annotation_v{to_version}converted\": f\"annotation_classes_v{to_version}_level{style_level}.sld\",\n",
    "# }\n",
    "\n",
    "# # Upload to GeoServer\n",
    "# store_name = sb.geo.upload_geopackage_layers_to_geoserver(\n",
    "#     conv_gpkg_path,\n",
    "#     [layer],\n",
    "#     SETTINGS.GEOSERVER_USER,\n",
    "#     SETTINGS.GEOSERVER_PASSWORD,\n",
    "#     workspace=\"geonode\",\n",
    "#     style_dict=style_dict,\n",
    "# )\n",
    "\n",
    "# # Publish to GeoNode\n",
    "# sb.geo.publish_to_geonode(\n",
    "#     layer,\n",
    "#     SETTINGS.GEONODE_USER,\n",
    "#     SETTINGS.GEONODE_PASSWORD,\n",
    "#     store_name=store_name,\n",
    "#     workspace=\"geonode\",\n",
    "# )"
   ]
  }
 ],
 "metadata": {
  "kernelspec": {
   "display_name": "Python 3 (ipykernel)",
   "language": "python",
   "name": "python3"
  },
  "language_info": {
   "codemirror_mode": {
    "name": "ipython",
    "version": 3
   },
   "file_extension": ".py",
   "mimetype": "text/x-python",
   "name": "python",
   "nbconvert_exporter": "python",
   "pygments_lexer": "ipython3",
   "version": "3.10.6"
  }
 },
 "nbformat": 4,
 "nbformat_minor": 5
}
